{
 "cells": [
  {
   "cell_type": "markdown",
   "id": "06349147",
   "metadata": {},
   "source": [
    "# Data Science Tools and Ecosystem"
   ]
  },
  {
   "cell_type": "markdown",
   "id": "aad1170b",
   "metadata": {},
   "source": [
    "In this notebook, Data Science Tools and Ecosystem are summarized."
   ]
  },
  {
   "cell_type": "markdown",
   "id": "2c7349da",
   "metadata": {},
   "source": [
    "**Objectives :**\n",
    "- List popular languages for Data Science\n",
    "- Learn how to use Jupiter Notebook\n",
    "- Learn how data is stored and accessed\n",
    "- Learn where data science can be used in our world\n"
   ]
  },
  {
   "cell_type": "markdown",
   "id": "a4372fb7",
   "metadata": {},
   "source": [
    "Some of the popular languages that Data Scientists use are:\n",
    "\n",
    "1. Python\n",
    "2. R\n",
    "3. SQL"
   ]
  },
  {
   "cell_type": "markdown",
   "id": "26962724",
   "metadata": {},
   "source": [
    "Some of the commonly used libraries used by Data Scientists include:\n",
    "\n",
    "1. NumPy\n",
    "2. Matplotlib\n",
    "3. Pandas"
   ]
  },
  {
   "cell_type": "markdown",
   "id": "e67da9f7",
   "metadata": {},
   "source": [
    "| Data Science Tools |\n",
    "|--------------------|\n",
    "| Jupyter Notebook   |\n",
    "| RStudio            |\n",
    "| Spyder    |\n"
   ]
  },
  {
   "cell_type": "markdown",
   "id": "1e658dcd",
   "metadata": {},
   "source": [
    "### Below are a few examples of evaluating arithmetic expressions in Python."
   ]
  },
  {
   "cell_type": "code",
   "execution_count": 4,
   "id": "b485dc8b",
   "metadata": {},
   "outputs": [
    {
     "name": "stdout",
     "output_type": "stream",
     "text": [
      "17\n"
     ]
    }
   ],
   "source": [
    "# This a simple arithmetic expression to mutiply then add integers.\n",
    "\n",
    "expression= (3*4)+5\n",
    "print(expression)"
   ]
  },
  {
   "cell_type": "code",
   "execution_count": 6,
   "id": "1deda130",
   "metadata": {},
   "outputs": [
    {
     "name": "stdout",
     "output_type": "stream",
     "text": [
      "3 hours and  20 minutes\n"
     ]
    }
   ],
   "source": [
    "# This will convert 200 minutes to hours by diving by 60.\n",
    "\n",
    "time = 200 \n",
    "hours = 200//60\n",
    "minutes=200-(hours*60)\n",
    "\n",
    "print(hours, 'hours and ', minutes, \"minutes\")"
   ]
  },
  {
   "cell_type": "markdown",
   "id": "18dedad3",
   "metadata": {},
   "source": [
    "## Author\n",
    "Alaa Chabchoub"
   ]
  }
 ],
 "metadata": {
  "kernelspec": {
   "display_name": "Python 3",
   "language": "python",
   "name": "python3"
  },
  "language_info": {
   "codemirror_mode": {
    "name": "ipython",
    "version": 3
   },
   "file_extension": ".py",
   "mimetype": "text/x-python",
   "name": "python",
   "nbconvert_exporter": "python",
   "pygments_lexer": "ipython3",
   "version": "3.8.8"
  }
 },
 "nbformat": 4,
 "nbformat_minor": 5
}
